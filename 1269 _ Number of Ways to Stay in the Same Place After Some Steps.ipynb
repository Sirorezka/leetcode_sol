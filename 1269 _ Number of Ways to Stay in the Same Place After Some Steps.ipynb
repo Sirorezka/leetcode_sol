{
 "cells": [
  {
   "cell_type": "code",
   "execution_count": 14,
   "id": "4b239f8b",
   "metadata": {
    "scrolled": true
   },
   "outputs": [
    {
     "name": "stdout",
     "output_type": "stream",
     "text": [
      "[1, 1]\n",
      "[2, 2]\n",
      "2 True\n",
      "[1, 1]\n",
      "[2, 2]\n",
      "[4, 4]\n",
      "4 True\n"
     ]
    }
   ],
   "source": [
    "# 1269. Number of Ways to Stay in the Same Place After Some Steps\n",
    "\n",
    "class Solution:\n",
    "    def numWays(self, steps: int, arrLen: int) -> int:\n",
    "        \n",
    "        n = min(arrLen, 1 + steps // 2)\n",
    "        \n",
    "        arr = [0] * n\n",
    "        arr[0] = 1\n",
    "        \n",
    "        for i in range(steps):\n",
    "            prev = 0\n",
    "            for j in range( min(i+1,n-1),0,-1):\n",
    "                store = arr[j]\n",
    "                arr[j] = prev + arr[j] + arr[j-1]\n",
    "                prev = store\n",
    "            \n",
    "            arr[0] = prev + arr[0]\n",
    "            \n",
    "            # print (arr)\n",
    "        \n",
    "        return arr[0] % (10**9 + 7)\n",
    "        \n",
    "steps = 2\n",
    "arrLen = 4\n",
    "    \n",
    "sol = Solution()\n",
    "aa = sol.numWays(steps, arrLen)\n",
    "print (aa, aa==2)\n",
    "\n",
    "\n",
    "steps = 3\n",
    "arrLen = 2\n",
    "    \n",
    "sol = Solution()\n",
    "aa = sol.numWays(steps, arrLen)\n",
    "print (aa, aa == 4)"
   ]
  },
  {
   "cell_type": "code",
   "execution_count": 68,
   "id": "4056e7c0",
   "metadata": {},
   "outputs": [
    {
     "name": "stdout",
     "output_type": "stream",
     "text": [
      "[1, 1] True\n",
      "[1, 2, 1] True\n",
      "[1, 3, 3, 1] True\n",
      "[1, 4, 6, 4, 1] True\n",
      "[1, 5, 10, 10, 5, 1] True\n",
      "[1, 6, 15, 20, 15, 6, 1] True\n",
      "[1, 7, 21, 35, 35, 21, 7, 1] True\n"
     ]
    }
   ],
   "source": [
    "# 119. Pascal's Triangle II\n",
    "\n",
    "class Solution:\n",
    "    def getRow(self, rowIndex: int) -> List[int]:\n",
    "        if rowIndex == 0:\n",
    "                return [1]\n",
    "        \n",
    "        n = int((rowIndex)/2)+1\n",
    "        arr = [1] * n \n",
    "\n",
    "        \n",
    "        for i in range(1, rowIndex):\n",
    "            for j in range(min(i, n-1), 0, -1):\n",
    "                arr[j] += arr[j-1]\n",
    "        \n",
    "\n",
    "        if rowIndex % 2 == 0:\n",
    "            return arr + arr[:-1][::-1]\n",
    "        else:\n",
    "            return arr + arr[::-1]\n",
    "\n",
    "    \n",
    "sol = Solution()\n",
    "\n",
    "aa = sol.getRow(1)\n",
    "print (aa, aa== [1, 1])\n",
    "\n",
    "aa = sol.getRow(2)\n",
    "print (aa, aa== [1, 2, 1])\n",
    "\n",
    "aa = sol.getRow(3)\n",
    "print (aa, aa== [1, 3, 3, 1])\n",
    "\n",
    "aa = sol.getRow(4)\n",
    "print (aa, aa== [1, 4, 6, 4, 1])\n",
    "\n",
    "aa = sol.getRow(5)\n",
    "print (aa, aa== [1, 5, 10, 10, 5, 1])\n",
    "\n",
    "aa = sol.getRow(6)\n",
    "print (aa, aa== [1, 6, 15, 20, 15, 6, 1])\n",
    "\n",
    "aa = sol.getRow(7)\n",
    "print (aa, aa== [1, 7, 21, 35, 35, 21, 7, 1])\n",
    "\n",
    "    "
   ]
  }
 ],
 "metadata": {
  "kernelspec": {
   "display_name": "Python 3 (ipykernel)",
   "language": "python",
   "name": "python3"
  },
  "language_info": {
   "codemirror_mode": {
    "name": "ipython",
    "version": 3
   },
   "file_extension": ".py",
   "mimetype": "text/x-python",
   "name": "python",
   "nbconvert_exporter": "python",
   "pygments_lexer": "ipython3",
   "version": "3.9.7"
  }
 },
 "nbformat": 4,
 "nbformat_minor": 5
}
