{
 "cells": [
  {
   "cell_type": "code",
   "execution_count": null,
   "id": "816c0842",
   "metadata": {},
   "outputs": [],
   "source": [
    "# 26. Remove Duplicates from Sorted Array\n",
    "\n",
    "from typing import List\n",
    "\n",
    "class Solution:\n",
    "    def removeDuplicates(self, nums: List[int]) -> int:\n",
    "        # pointer to the last inserted unique element\n",
    "        n_u = 0\n",
    "        for i, v in enumerate(nums[1:]):\n",
    "            if v == nums[n_u]:\n",
    "                continue\n",
    "            n_u += 1\n",
    "            # inserting using slice is faster than variable assigning\n",
    "            nums[n_u:n_u+1] = nums[i+1:i+2]\n",
    "\n",
    "        # this line will reduce space complexity\n",
    "        nums[:] = nums[:n_u+1] \n",
    "        return n_u + 1\n",
    "    \n",
    "sol = Solution()\n",
    "\n",
    "nums = [1,1,2]\n",
    "aa = sol.removeDuplicates(nums)\n",
    "print (aa, aa==2)\n",
    "\n",
    "nums = [1,1,2,2,3,4,4,4,5]\n",
    "aa = sol.removeDuplicates(nums)\n",
    "print (aa, nums, aa==5)"
   ]
  },
  {
   "cell_type": "code",
   "execution_count": null,
   "id": "0ce04666",
   "metadata": {},
   "outputs": [],
   "source": [
    "\n",
    "class Solution:\n",
    "    def removeDuplicates(self, nums: List[int]) -> int:\n",
    "        if nums[0] == nums[-1]:\n",
    "            return 1\n",
    "\n",
    "        last = nums[-1]\n",
    "        n_u = 0\n",
    "        i = 0\n",
    "        while nums[i+1] != last:\n",
    "            i+=1\n",
    "            if nums[i] == nums[n_u]:\n",
    "                continue\n",
    "\n",
    "            n_u += 1\n",
    "            del nums[n_u:i]\n",
    "            i = n_u\n",
    "            \n",
    "        n_u +=1\n",
    "        nums[n_u] = last\n",
    "        return n_u+1\n",
    "    \n",
    "sol = Solution()\n",
    "\n",
    "nums = [1,1,2,2,3,4,4,4,5]\n",
    "aa = sol.removeDuplicates(nums)\n",
    "print (aa, nums, aa==2)"
   ]
  },
  {
   "cell_type": "code",
   "execution_count": null,
   "id": "5772dfc5",
   "metadata": {},
   "outputs": [],
   "source": [
    "from collections import deque\n",
    "aa = set([1,2,4,4])\n",
    "aa.pop()\n",
    "aa.add(1)\n",
    "aa.pop()\n",
    "aa.pop()\n",
    "aa.pop()"
   ]
  },
  {
   "cell_type": "code",
   "execution_count": null,
   "id": "72cae6c9",
   "metadata": {},
   "outputs": [],
   "source": [
    "d.pop()"
   ]
  },
  {
   "cell_type": "code",
   "execution_count": null,
   "id": "1376cc3e",
   "metadata": {},
   "outputs": [],
   "source": []
  }
 ],
 "metadata": {
  "language_info": {
   "name": "python"
  }
 },
 "nbformat": 4,
 "nbformat_minor": 5
}
