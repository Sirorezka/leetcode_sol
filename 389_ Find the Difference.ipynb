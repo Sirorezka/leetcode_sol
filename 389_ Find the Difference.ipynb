{
 "cells": [
  {
   "cell_type": "code",
   "execution_count": 17,
   "id": "4b239f8b",
   "metadata": {
    "scrolled": true
   },
   "outputs": [
    {
     "data": {
      "text/plain": [
       "'e'"
      ]
     },
     "execution_count": 17,
     "metadata": {},
     "output_type": "execute_result"
    }
   ],
   "source": [
    "# 389. Find the Difference\n",
    "\n",
    "\n",
    "class Solution:\n",
    "    def findTheDifference(self, s: str, t: str) -> str:\n",
    "        ss = 0\n",
    "        for k in t:\n",
    "            ss += ord(k)\n",
    "            \n",
    "        for k in s:\n",
    "            ss -= ord(k)\n",
    "\n",
    "        \n",
    "        return chr(ss)\n",
    "    \n",
    "sol = Solution()\n",
    "sol.findTheDifference(\"abcd\",\"abcde\")"
   ]
  },
  {
   "cell_type": "code",
   "execution_count": 18,
   "id": "9affbd7d",
   "metadata": {},
   "outputs": [
    {
     "data": {
      "text/plain": [
       "'e'"
      ]
     },
     "execution_count": 18,
     "metadata": {},
     "output_type": "execute_result"
    }
   ],
   "source": [
    "class Solution:\n",
    "    def findTheDifference(self, s: str, t: str) -> str:\n",
    "        ss = 0\n",
    "        for k in t:\n",
    "            ss ^= ord(k)\n",
    "            \n",
    "        for k in s:\n",
    "            ss ^= ord(k)\n",
    "\n",
    "\n",
    "        return chr(ss)\n",
    "    \n",
    "sol = Solution()\n",
    "sol.findTheDifference(\"abcd\",\"abcde\")"
   ]
  },
  {
   "cell_type": "code",
   "execution_count": 24,
   "id": "ed54c524",
   "metadata": {},
   "outputs": [
    {
     "data": {
      "text/plain": [
       "'e'"
      ]
     },
     "execution_count": 24,
     "metadata": {},
     "output_type": "execute_result"
    }
   ],
   "source": [
    "from operator import xor\n",
    "from functools import reduce \n",
    "\n",
    "class Solution:\n",
    "    def findTheDifference(self, s: str, t: str) -> str:\n",
    "\n",
    "        return chr(reduce(xor, map(ord, t), 0) ^ \n",
    "                   reduce(xor, map(ord, s), 0))\n",
    "\n",
    "    \n",
    "sol = Solution()\n",
    "sol.findTheDifference(\"abcd\",\"abcde\")    \n"
   ]
  }
 ],
 "metadata": {
  "kernelspec": {
   "display_name": "Python 3 (ipykernel)",
   "language": "python",
   "name": "python3"
  },
  "language_info": {
   "codemirror_mode": {
    "name": "ipython",
    "version": 3
   },
   "file_extension": ".py",
   "mimetype": "text/x-python",
   "name": "python",
   "nbconvert_exporter": "python",
   "pygments_lexer": "ipython3",
   "version": "3.9.7"
  }
 },
 "nbformat": 4,
 "nbformat_minor": 5
}
