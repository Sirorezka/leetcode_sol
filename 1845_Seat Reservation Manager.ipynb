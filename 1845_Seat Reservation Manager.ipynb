{
 "cells": [
  {
   "cell_type": "code",
   "execution_count": null,
   "id": "1ce9878e-6da4-4016-8e4f-c38120fa81af",
   "metadata": {},
   "outputs": [],
   "source": [
    "# 1845. Seat Reservation Manager\n",
    "\n",
    "import bisect \n",
    "import heapq\n",
    "\n",
    "class SeatManager:\n",
    "\n",
    "    def __init__(self, n: int):        \n",
    "        self.res = 0\n",
    "        self.q = []\n",
    "\n",
    "    def reserve(self) -> int:\n",
    "        if not self.q:\n",
    "            self.res = self.res+1\n",
    "            return self.res\n",
    "\n",
    "        return heapq.heappop(self.q)\n",
    "        \n",
    "        \n",
    "    def unreserve(self, seatNumber: int) -> None:\n",
    "        heapq.heappush(self.q, seatNumber)\n",
    "\n",
    "\n",
    "\n",
    "ss = SeatManager(n=100)\n",
    "ss.reserve()\n",
    "ss.reserve()\n",
    "\n",
    "ss.unreserve(1)\n",
    "ss.reserve()"
   ]
  },
  {
   "cell_type": "code",
   "execution_count": null,
   "id": "8475dd00-4659-4193-8689-942a98c69c32",
   "metadata": {},
   "outputs": [],
   "source": []
  }
 ],
 "metadata": {
  "language_info": {
   "name": "python"
  }
 },
 "nbformat": 4,
 "nbformat_minor": 5
}
