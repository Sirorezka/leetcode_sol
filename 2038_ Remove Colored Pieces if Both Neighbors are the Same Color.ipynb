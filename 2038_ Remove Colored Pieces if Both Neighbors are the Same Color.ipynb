{
 "cells": [
  {
   "cell_type": "code",
   "execution_count": null,
   "id": "4b239f8b",
   "metadata": {},
   "outputs": [],
   "source": [
    "# 2038. Remove Colored Pieces if Both Neighbors are the Same Color\n",
    "\n",
    "\n",
    "class Solution:\n",
    "    def winnerOfGame(self, colors: str) -> bool:\n",
    "        n1 = len(re.sub(r\"A{3,}\", \"AA\", colors))\n",
    "        n2 = len(re.sub(r\"B{3,}\", \"BB\", colors))\n",
    "\n",
    "        return n2>n1\n"
   ]
  },
  {
   "cell_type": "code",
   "execution_count": null,
   "id": "9affbd7d",
   "metadata": {},
   "outputs": [],
   "source": [
    "import re\n",
    "re.finditer(\"a\", \"aaa\"))"
   ]
  }
 ],
 "metadata": {
  "kernelspec": {
   "display_name": "Python 3 (ipykernel)",
   "language": "python",
   "name": "python3"
  },
  "language_info": {
   "codemirror_mode": {
    "name": "ipython",
    "version": 3
   },
   "file_extension": ".py",
   "mimetype": "text/x-python",
   "name": "python",
   "nbconvert_exporter": "python",
   "pygments_lexer": "ipython3",
   "version": "3.9.7"
  }
 },
 "nbformat": 4,
 "nbformat_minor": 5
}
