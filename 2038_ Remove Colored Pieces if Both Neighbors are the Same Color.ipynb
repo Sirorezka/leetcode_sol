{
 "cells": [
  {
   "cell_type": "code",
   "execution_count": null,
   "id": "4b239f8b",
   "metadata": {},
   "outputs": [],
   "source": [
    "# 2038. Remove Colored Pieces if Both Neighbors are the Same Color\n",
    "\n",
    "\n",
    "class Solution:\n",
    "    def winnerOfGame(self, colors: str) -> bool:\n",
    "        n1 = len(re.sub(r\"A{3,}\", \"AA\", colors))\n",
    "        n2 = len(re.sub(r\"B{3,}\", \"BB\", colors))\n",
    "\n",
    "        return n2>n1\n"
   ]
  },
  {
   "cell_type": "code",
   "execution_count": null,
   "id": "9affbd7d",
   "metadata": {},
   "outputs": [],
   "source": [
    "import re\n",
    "re.finditer(\"a\", \"aaa\"))"
   ]
  }
 ],
 "metadata": {
  "language_info": {
   "name": "python"
  }
 },
 "nbformat": 4,
 "nbformat_minor": 5
}
