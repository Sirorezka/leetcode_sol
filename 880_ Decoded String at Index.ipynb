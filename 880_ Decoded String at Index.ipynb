{
 "cells": [
  {
   "cell_type": "code",
   "execution_count": 150,
   "id": "3b14ba2b",
   "metadata": {},
   "outputs": [
    {
     "name": "stdout",
     "output_type": "stream",
     "text": [
      "2544 2545 375\n",
      "0 4 3\n",
      "p False\n"
     ]
    }
   ],
   "source": [
    "# 880. Decoded String at Index\n",
    "\n",
    "import re\n",
    "\n",
    "class Solution:\n",
    "    def decodeAtIndex(self, s: str, k: int) -> str:\n",
    "        \n",
    "        mm = \"([a-z]{1,})(\\d{1,}|$)\"\n",
    "        \n",
    "        it = 0\n",
    "        while True:\n",
    "            n=0\n",
    "            it +=1\n",
    "            for pattern in re.finditer(mm, s):\n",
    "                txt, txt2 = pattern.group(1), pattern.group(2)\n",
    "                cnt_repeat = int(txt2) if txt2!=\"\" else 1\n",
    "                n_txt= len(txt)\n",
    "                new_n = (n+n_txt) * cnt_repeat\n",
    "            \n",
    "                if new_n<k:\n",
    "                    n = new_n\n",
    "                else:\n",
    "                    k = k % (n+n_txt)     \n",
    "                    \n",
    "                    print (n, n+n_txt, k)\n",
    "                    if k == 0 or k>n:\n",
    "                        if k ==0: \n",
    "                            k = n+n_txt\n",
    "                            \n",
    "                        return txt[k-n-1]\n",
    "                    \n",
    "\n",
    "                    break\n",
    "            \n",
    "        return \"\"\n",
    "\n",
    "    \n",
    "s = \"udq827yx7rxjfa4s63h6\"    \n",
    "k = 300563\n",
    "\n",
    "s = \"asdfg4qwert3yx7\"    \n",
    "k = 20\n",
    "\n",
    "answ = {20: 't', 13:'d', 40:'t', 39:'r', 41:'y'}\n",
    "\n",
    "sol = Solution()\n",
    "\n",
    "# for k, val in answ.items():\n",
    "#     aa = sol.decodeAtIndex(s,k)\n",
    "#     print (aa, k, aa==val)\n",
    "\n",
    "# s = \"leet2code3\"\n",
    "# k = 10\n",
    "# aa = sol.decodeAtIndex(s,k)\n",
    "# print (aa, aa == \"o\")\n",
    "\n",
    "s = \"vzpp636m8y\"\n",
    "k = 2920\n",
    "aa = sol.decodeAtIndex(s,k)\n",
    "print (aa, aa == \"z\")"
   ]
  },
  {
   "cell_type": "code",
   "execution_count": 148,
   "id": "ee1a32b5",
   "metadata": {},
   "outputs": [
    {
     "data": {
      "text/plain": [
       "'p'"
      ]
     },
     "execution_count": 148,
     "metadata": {},
     "output_type": "execute_result"
    }
   ],
   "source": [
    "((\"vzpp\"*636 + \"m\") * 8)[2920-1]"
   ]
  },
  {
   "cell_type": "code",
   "execution_count": null,
   "id": "368e8ce4",
   "metadata": {},
   "outputs": [],
   "source": []
  }
 ],
 "metadata": {
  "kernelspec": {
   "display_name": "Python 3 (ipykernel)",
   "language": "python",
   "name": "python3"
  },
  "language_info": {
   "codemirror_mode": {
    "name": "ipython",
    "version": 3
   },
   "file_extension": ".py",
   "mimetype": "text/x-python",
   "name": "python",
   "nbconvert_exporter": "python",
   "pygments_lexer": "ipython3",
   "version": "3.9.7"
  }
 },
 "nbformat": 4,
 "nbformat_minor": 5
}
