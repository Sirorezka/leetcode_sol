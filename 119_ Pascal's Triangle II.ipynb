{
 "cells": [
  {
   "cell_type": "code",
   "execution_count": 31,
   "id": "4b239f8b",
   "metadata": {
    "scrolled": true
   },
   "outputs": [
    {
     "name": "stdout",
     "output_type": "stream",
     "text": [
      "[1, 1] True\n",
      "[1, 2, 1] True\n",
      "[1, 3, 3, 1] True\n",
      "[1, 4, 6, 4, 1] True\n",
      "[1, 5, 10, 10, 5, 1] True\n",
      "[1, 6, 15, 20, 15, 6, 1] True\n",
      "[1, 7, 21, 35, 35, 21, 7, 1] True\n"
     ]
    }
   ],
   "source": [
    "# 119. Pascal's Triangle II\n",
    "\n",
    "class Solution:\n",
    "    def getRow(self, rowIndex: int) -> List[int]:\n",
    "        if rowIndex == 0:\n",
    "                return [1]\n",
    "        \n",
    "        arr = self.getHalfRow(rowIndex)\n",
    "        \n",
    "        if rowIndex % 2 == 0:\n",
    "            return arr + arr[:-1][::-1]\n",
    "        else:\n",
    "            return arr + arr[::-1]\n",
    "\n",
    "    \n",
    "    def getHalfRow(self, rowIndex):\n",
    "        if rowIndex == 1:\n",
    "            return [1]\n",
    "        \n",
    "        arr = self.getHalfRow(rowIndex-1)\n",
    "        \n",
    "        if rowIndex % 2 == 0:\n",
    "            k = arr[-1]*2\n",
    "            arr.append(k)\n",
    "            \n",
    "        for i in range((rowIndex-1)//2, 0, -1):\n",
    "            arr[i] = arr[i]+arr[i-1]\n",
    "    \n",
    "        return arr\n",
    "\n",
    "    \n",
    "    \n",
    "sol = Solution()\n",
    "\n",
    "aa = sol.getRow(1)\n",
    "print (aa, aa== [1, 1])\n",
    "\n",
    "aa = sol.getRow(2)\n",
    "print (aa, aa== [1, 2, 1])\n",
    "\n",
    "aa = sol.getRow(3)\n",
    "print (aa, aa== [1, 3, 3, 1])\n",
    "\n",
    "aa = sol.getRow(4)\n",
    "print (aa, aa== [1, 4, 6, 4, 1])\n",
    "\n",
    "aa = sol.getRow(5)\n",
    "print (aa, aa== [1, 5, 10, 10, 5, 1])\n",
    "\n",
    "aa = sol.getRow(6)\n",
    "print (aa, aa== [1, 6, 15, 20, 15, 6, 1])\n",
    "\n",
    "aa = sol.getRow(7)\n",
    "print (aa, aa== [1, 7, 21, 35, 35, 21, 7, 1] )\n",
    "\n"
   ]
  },
  {
   "cell_type": "code",
   "execution_count": 68,
   "id": "4056e7c0",
   "metadata": {},
   "outputs": [
    {
     "name": "stdout",
     "output_type": "stream",
     "text": [
      "[1, 1] True\n",
      "[1, 2, 1] True\n",
      "[1, 3, 3, 1] True\n",
      "[1, 4, 6, 4, 1] True\n",
      "[1, 5, 10, 10, 5, 1] True\n",
      "[1, 6, 15, 20, 15, 6, 1] True\n",
      "[1, 7, 21, 35, 35, 21, 7, 1] True\n"
     ]
    }
   ],
   "source": [
    "# 119. Pascal's Triangle II\n",
    "\n",
    "class Solution:\n",
    "    def getRow(self, rowIndex: int) -> List[int]:\n",
    "        if rowIndex == 0:\n",
    "                return [1]\n",
    "        \n",
    "        n = int((rowIndex)/2)+1\n",
    "        arr = [1] * n \n",
    "\n",
    "        \n",
    "        for i in range(1, rowIndex):\n",
    "            for j in range(min(i, n-1), 0, -1):\n",
    "                arr[j] += arr[j-1]\n",
    "        \n",
    "\n",
    "        if rowIndex % 2 == 0:\n",
    "            return arr + arr[:-1][::-1]\n",
    "        else:\n",
    "            return arr + arr[::-1]\n",
    "\n",
    "    \n",
    "sol = Solution()\n",
    "\n",
    "aa = sol.getRow(1)\n",
    "print (aa, aa== [1, 1])\n",
    "\n",
    "aa = sol.getRow(2)\n",
    "print (aa, aa== [1, 2, 1])\n",
    "\n",
    "aa = sol.getRow(3)\n",
    "print (aa, aa== [1, 3, 3, 1])\n",
    "\n",
    "aa = sol.getRow(4)\n",
    "print (aa, aa== [1, 4, 6, 4, 1])\n",
    "\n",
    "aa = sol.getRow(5)\n",
    "print (aa, aa== [1, 5, 10, 10, 5, 1])\n",
    "\n",
    "aa = sol.getRow(6)\n",
    "print (aa, aa== [1, 6, 15, 20, 15, 6, 1])\n",
    "\n",
    "aa = sol.getRow(7)\n",
    "print (aa, aa== [1, 7, 21, 35, 35, 21, 7, 1])\n",
    "\n",
    "    "
   ]
  },
  {
   "cell_type": "code",
   "execution_count": 101,
   "id": "8d52000e",
   "metadata": {},
   "outputs": [
    {
     "name": "stdout",
     "output_type": "stream",
     "text": [
      "(0, 4)\n"
     ]
    },
    {
     "ename": "ZeroDivisionError",
     "evalue": "division by zero",
     "output_type": "error",
     "traceback": [
      "\u001b[0;31m---------------------------------------------------------------------------\u001b[0m",
      "\u001b[0;31mZeroDivisionError\u001b[0m                         Traceback (most recent call last)",
      "\u001b[0;32m/var/folders/jr/ljxh3p0j2h73tfy7r4ptm30c0000gn/T/ipykernel_38275/796003242.py\u001b[0m in \u001b[0;36m<module>\u001b[0;34m\u001b[0m\n\u001b[1;32m      4\u001b[0m \u001b[0;32mfor\u001b[0m \u001b[0mpattern\u001b[0m \u001b[0;32min\u001b[0m \u001b[0mre\u001b[0m\u001b[0;34m.\u001b[0m\u001b[0mfinditer\u001b[0m\u001b[0;34m(\u001b[0m\u001b[0;34mr\"A{3,}\"\u001b[0m\u001b[0;34m,\u001b[0m \u001b[0mcolors\u001b[0m\u001b[0;34m)\u001b[0m\u001b[0;34m:\u001b[0m\u001b[0;34m\u001b[0m\u001b[0;34m\u001b[0m\u001b[0m\n\u001b[1;32m      5\u001b[0m     \u001b[0mprint\u001b[0m \u001b[0;34m(\u001b[0m\u001b[0mpattern\u001b[0m\u001b[0;34m.\u001b[0m\u001b[0mspan\u001b[0m\u001b[0;34m(\u001b[0m\u001b[0;34m)\u001b[0m\u001b[0;34m)\u001b[0m\u001b[0;34m\u001b[0m\u001b[0;34m\u001b[0m\u001b[0m\n\u001b[0;32m----> 6\u001b[0;31m     \u001b[0;36m1\u001b[0m\u001b[0;34m/\u001b[0m\u001b[0;36m0\u001b[0m\u001b[0;34m\u001b[0m\u001b[0;34m\u001b[0m\u001b[0m\n\u001b[0m",
      "\u001b[0;31mZeroDivisionError\u001b[0m: division by zero"
     ]
    }
   ],
   "source": [
    "import re\n",
    "colors = \"AAAABBB\"\n",
    "n = len(colors)\n",
    "for pattern in re.finditer(r\"A{3,}\", colors):\n",
    "    pattern.span())\n",
    "    1/0"
   ]
  },
  {
   "cell_type": "code",
   "execution_count": 115,
   "id": "2b7b10b7",
   "metadata": {},
   "outputs": [
    {
     "data": {
      "text/plain": [
       "['__class__',\n",
       " '__class_getitem__',\n",
       " '__copy__',\n",
       " '__deepcopy__',\n",
       " '__delattr__',\n",
       " '__dir__',\n",
       " '__doc__',\n",
       " '__eq__',\n",
       " '__format__',\n",
       " '__ge__',\n",
       " '__getattribute__',\n",
       " '__getitem__',\n",
       " '__gt__',\n",
       " '__hash__',\n",
       " '__init__',\n",
       " '__init_subclass__',\n",
       " '__le__',\n",
       " '__lt__',\n",
       " '__ne__',\n",
       " '__new__',\n",
       " '__reduce__',\n",
       " '__reduce_ex__',\n",
       " '__repr__',\n",
       " '__setattr__',\n",
       " '__sizeof__',\n",
       " '__str__',\n",
       " '__subclasshook__',\n",
       " 'end',\n",
       " 'endpos',\n",
       " 'expand',\n",
       " 'group',\n",
       " 'groupdict',\n",
       " 'groups',\n",
       " 'lastgroup',\n",
       " 'lastindex',\n",
       " 'pos',\n",
       " 're',\n",
       " 'regs',\n",
       " 'span',\n",
       " 'start',\n",
       " 'string']"
      ]
     },
     "execution_count": 115,
     "metadata": {},
     "output_type": "execute_result"
    }
   ],
   "source": [
    "dir(pattern)"
   ]
  },
  {
   "cell_type": "code",
   "execution_count": 126,
   "id": "f81ae238",
   "metadata": {},
   "outputs": [],
   "source": [
    "pattern.group??"
   ]
  },
  {
   "cell_type": "code",
   "execution_count": 127,
   "id": "9fa01025",
   "metadata": {},
   "outputs": [
    {
     "data": {
      "text/plain": [
       "\"{'s'}\""
      ]
     },
     "execution_count": 127,
     "metadata": {},
     "output_type": "execute_result"
    }
   ],
   "source": [
    "str({'s'})"
   ]
  }
 ],
 "metadata": {
  "kernelspec": {
   "display_name": "Python 3 (ipykernel)",
   "language": "python",
   "name": "python3"
  },
  "language_info": {
   "codemirror_mode": {
    "name": "ipython",
    "version": 3
   },
   "file_extension": ".py",
   "mimetype": "text/x-python",
   "name": "python",
   "nbconvert_exporter": "python",
   "pygments_lexer": "ipython3",
   "version": "3.9.7"
  }
 },
 "nbformat": 4,
 "nbformat_minor": 5
}
