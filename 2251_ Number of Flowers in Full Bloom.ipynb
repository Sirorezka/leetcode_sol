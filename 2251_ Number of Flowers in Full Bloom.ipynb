{
 "cells": [
  {
   "cell_type": "code",
   "execution_count": 54,
   "id": "6337c6fb",
   "metadata": {},
   "outputs": [
    {
     "ename": "TypeError",
     "evalue": "'key' is an invalid keyword argument for bisect_right()",
     "output_type": "error",
     "traceback": [
      "\u001b[0;31m---------------------------------------------------------------------------\u001b[0m",
      "\u001b[0;31mTypeError\u001b[0m                                 Traceback (most recent call last)",
      "\u001b[0;32m/var/folders/jr/ljxh3p0j2h73tfy7r4ptm30c0000gn/T/ipykernel_74726/4266826086.py\u001b[0m in \u001b[0;36m<module>\u001b[0;34m\u001b[0m\n\u001b[1;32m     52\u001b[0m \u001b[0;34m\u001b[0m\u001b[0m\n\u001b[1;32m     53\u001b[0m \u001b[0msol\u001b[0m \u001b[0;34m=\u001b[0m \u001b[0mSolution\u001b[0m\u001b[0;34m(\u001b[0m\u001b[0;34m)\u001b[0m\u001b[0;34m\u001b[0m\u001b[0;34m\u001b[0m\u001b[0m\n\u001b[0;32m---> 54\u001b[0;31m \u001b[0msol\u001b[0m\u001b[0;34m.\u001b[0m\u001b[0mfullBloomFlowers\u001b[0m\u001b[0;34m(\u001b[0m\u001b[0mflowers\u001b[0m\u001b[0;34m,\u001b[0m \u001b[0mpeople\u001b[0m\u001b[0;34m)\u001b[0m\u001b[0;34m\u001b[0m\u001b[0;34m\u001b[0m\u001b[0m\n\u001b[0m",
      "\u001b[0;32m/var/folders/jr/ljxh3p0j2h73tfy7r4ptm30c0000gn/T/ipykernel_74726/4266826086.py\u001b[0m in \u001b[0;36mfullBloomFlowers\u001b[0;34m(self, flowers, people)\u001b[0m\n\u001b[1;32m     33\u001b[0m             \u001b[0mt\u001b[0m \u001b[0;34m=\u001b[0m \u001b[0mpeople\u001b[0m\u001b[0;34m[\u001b[0m\u001b[0midx_peop\u001b[0m\u001b[0;34m[\u001b[0m\u001b[0mi\u001b[0m\u001b[0;34m]\u001b[0m\u001b[0;34m]\u001b[0m\u001b[0;34m\u001b[0m\u001b[0;34m\u001b[0m\u001b[0m\n\u001b[1;32m     34\u001b[0m \u001b[0;34m\u001b[0m\u001b[0m\n\u001b[0;32m---> 35\u001b[0;31m             \u001b[0mi1\u001b[0m \u001b[0;34m=\u001b[0m \u001b[0mbisect_right\u001b[0m\u001b[0;34m(\u001b[0m\u001b[0mflowers\u001b[0m\u001b[0;34m,\u001b[0m \u001b[0mt\u001b[0m\u001b[0;34m,\u001b[0m \u001b[0mkey\u001b[0m \u001b[0;34m=\u001b[0m \u001b[0;32mlambda\u001b[0m \u001b[0mx\u001b[0m\u001b[0;34m:\u001b[0m \u001b[0mx\u001b[0m\u001b[0;34m[\u001b[0m\u001b[0;36m0\u001b[0m\u001b[0;34m]\u001b[0m\u001b[0;34m)\u001b[0m\u001b[0;34m\u001b[0m\u001b[0;34m\u001b[0m\u001b[0m\n\u001b[0m\u001b[1;32m     36\u001b[0m \u001b[0;31m#             while i1+1<n and flowers[i1+1][0]<=t:\u001b[0m\u001b[0;34m\u001b[0m\u001b[0;34m\u001b[0m\u001b[0m\n\u001b[1;32m     37\u001b[0m \u001b[0;31m#                 i1+=1\u001b[0m\u001b[0;34m\u001b[0m\u001b[0;34m\u001b[0m\u001b[0m\n",
      "\u001b[0;31mTypeError\u001b[0m: 'key' is an invalid keyword argument for bisect_right()"
     ]
    }
   ],
   "source": [
    "# 2251. Number of Flowers in Full Bloom\n",
    "\n",
    "from typing import List\n",
    "from bisect import bisect_right\n",
    "\n",
    "class Solution:\n",
    "    def fullBloomFlowers(self, \n",
    "                         flowers: List[List[int]], \n",
    "                         people: List[int]) -> List[int]:\n",
    "        \n",
    "        n = len(flowers)        \n",
    "        np = len(people)\n",
    "\n",
    "        # sorted time of people arriving to the garden\n",
    "        idx_peop = list(range(np))\n",
    "        idx_peop.sort(key = lambda x: people[x])        \n",
    "            \n",
    "        ## flowers sorted by bloom begining in ascending order \n",
    "        flowers.sort(key = lambda x: x[0])\n",
    "        \n",
    "        # array with flowers indexes\n",
    "        # end of bloom for each flower sorted in ascending order\n",
    "        idx_end = list(range(n))\n",
    "        idx_end.sort(key = lambda x: flowers[x][1])        \n",
    "        \n",
    "        i1 = -1\n",
    "        i2 = -1\n",
    "        \n",
    "        # zero array for the result\n",
    "        # creating full empty array is more time efficient then using .append method to emty array\n",
    "        res = [0] * np \n",
    "        for i in range(np):\n",
    "            t = people[idx_peop[i]]\n",
    "            \n",
    "            while i1+1<n and flowers[i1+1][0]<=t:\n",
    "                i1+=1\n",
    "                \n",
    "            while i2+1<n and flowers[idx_end[i2+1]][1]<t:\n",
    "                i2+=1\n",
    "                        \n",
    "            res[idx_peop[i]] = i1-i2\n",
    "            \n",
    "        return res\n",
    "        \n",
    "        \n",
    "# flowers = [[1,6],[3,7],[9,12],[4,13]]\n",
    "# people = [2,3,7,11] # [1, 2, 2, 2]\n",
    "\n",
    "flowers = [[1,10],[3,3]]\n",
    "people = [3,3,2] # [2, 2, 1]\n",
    "\n",
    "sol = Solution()\n",
    "sol.fullBloomFlowers(flowers, people)"
   ]
  },
  {
   "cell_type": "code",
   "execution_count": 33,
   "id": "9c3b9324",
   "metadata": {},
   "outputs": [
    {
     "data": {
      "text/plain": [
       "[1, 2, 2, 2]"
      ]
     },
     "execution_count": 33,
     "metadata": {},
     "output_type": "execute_result"
    }
   ],
   "source": [
    "from bisect import bisect_right\n",
    "\n",
    "class Solution:\n",
    "    def fullBloomFlowers(self, flowers: List[List[int]], people: List[int]) -> List[int]:\n",
    "        n = len(flowers)\n",
    "        starts = [10**8] * n\n",
    "        ends = [10**8] * n\n",
    "        \n",
    "        for i, (start, end) in enumerate(flowers):\n",
    "            starts[i] = start\n",
    "            ends[i] = end + 1\n",
    "            \n",
    "        starts.sort()\n",
    "        ends.sort()\n",
    "        ans = []\n",
    "\n",
    "        for person in people:\n",
    "            i = bisect_right(starts, person)\n",
    "            j = bisect_right(ends, person)\n",
    "            ans.append(i - j)\n",
    "        \n",
    "        return ans\n",
    "    \n",
    "flowers = [[1,6],[3,7],[9,12],[4,13]]\n",
    "people = [2,3,7,11] # [1, 2, 2, 2]\n",
    "\n",
    "\n",
    "sol = Solution()\n",
    "sol.fullBloomFlowers(flowers, people)"
   ]
  },
  {
   "cell_type": "code",
   "execution_count": 114,
   "id": "06021cc9",
   "metadata": {},
   "outputs": [
    {
     "data": {
      "text/plain": [
       "167"
      ]
     },
     "execution_count": 114,
     "metadata": {},
     "output_type": "execute_result"
    }
   ],
   "source": [
    "129 + 38"
   ]
  },
  {
   "cell_type": "code",
   "execution_count": 43,
   "id": "8f59607a",
   "metadata": {},
   "outputs": [
    {
     "data": {
      "text/plain": [
       "19"
      ]
     },
     "execution_count": 43,
     "metadata": {},
     "output_type": "execute_result"
    }
   ],
   "source": [
    "len(nums)"
   ]
  }
 ],
 "metadata": {
  "kernelspec": {
   "display_name": "Python 3 (ipykernel)",
   "language": "python",
   "name": "python3"
  },
  "language_info": {
   "codemirror_mode": {
    "name": "ipython",
    "version": 3
   },
   "file_extension": ".py",
   "mimetype": "text/x-python",
   "name": "python",
   "nbconvert_exporter": "python",
   "pygments_lexer": "ipython3",
   "version": "3.9.7"
  }
 },
 "nbformat": 4,
 "nbformat_minor": 5
}
