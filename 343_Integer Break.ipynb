{
 "cells": [
  {
   "cell_type": "code",
   "execution_count": null,
   "id": "605f6067",
   "metadata": {},
   "outputs": [],
   "source": [
    "# 343. Integer Break\n",
    "\n",
    "class Solution:\n",
    "    def integerBreak(self, n: int) -> int:\n",
    "        if n<4:\n",
    "            return max(1, n-1)\n",
    "        \n",
    "        val = -1\n",
    "        k = n // 2\n",
    "        l = n - 2*k  \n",
    "        if l == 1:\n",
    "            k = k-1\n",
    "            l = l+2\n",
    "        val = max(val, 2**k * self.newBreak(l))\n",
    "            \n",
    "        k = n // 3 \n",
    "        l = n-3*k\n",
    "        if l == 1:\n",
    "            k = k-1       \n",
    "            l = l+3\n",
    "        val = max(val, 3**k * self.newBreak(l))\n",
    "            \n",
    "        t = 3\n",
    "        while t<n:\n",
    "            t += 3\n",
    "            \n",
    "        return val\n",
    "        \n",
    "    def newBreak(self, n: int) -> int:\n",
    "        if n==0:\n",
    "            return 1\n",
    "        if n<=4:\n",
    "            return n\n",
    "        else:\n",
    "            return self.integerBreak(n)\n",
    "\n",
    "\n",
    "    \n",
    "sol = Solution()\n",
    "aa = sol.integerBreak(7)\n",
    "print (aa, aa == 12)\n",
    "\n",
    "sol = Solution()\n",
    "aa = sol.integerBreak(8)\n",
    "print (aa, aa == 18)\n",
    "\n",
    "sol = Solution()\n",
    "aa = sol.integerBreak(12)\n",
    "print (aa, aa == 81)"
   ]
  },
  {
   "cell_type": "code",
   "execution_count": null,
   "id": "138a03cf",
   "metadata": {},
   "outputs": [],
   "source": [
    "7//3"
   ]
  },
  {
   "cell_type": "code",
   "execution_count": null,
   "id": "52b8f778",
   "metadata": {},
   "outputs": [],
   "source": [
    "3**5"
   ]
  },
  {
   "cell_type": "code",
   "execution_count": null,
   "id": "50f61555",
   "metadata": {},
   "outputs": [],
   "source": [
    "2*k<=t\n"
   ]
  }
 ],
 "metadata": {
  "language_info": {
   "name": "python"
  }
 },
 "nbformat": 4,
 "nbformat_minor": 5
}
