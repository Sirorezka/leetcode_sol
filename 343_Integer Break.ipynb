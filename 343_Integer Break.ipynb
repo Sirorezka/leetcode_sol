{
 "cells": [
  {
   "cell_type": "code",
   "execution_count": 75,
   "id": "605f6067",
   "metadata": {},
   "outputs": [
    {
     "name": "stdout",
     "output_type": "stream",
     "text": [
      "12 True\n",
      "18 True\n",
      "81 True\n"
     ]
    }
   ],
   "source": [
    "# 343. Integer Break\n",
    "\n",
    "class Solution:\n",
    "    def integerBreak(self, n: int) -> int:\n",
    "        if n<4:\n",
    "            return max(1, n-1)\n",
    "        \n",
    "        val = -1\n",
    "        k = n // 2\n",
    "        l = n - 2*k  \n",
    "        if l == 1:\n",
    "            k = k-1\n",
    "            l = l+2\n",
    "        val = max(val, 2**k * self.newBreak(l))\n",
    "            \n",
    "        k = n // 3 \n",
    "        l = n-3*k\n",
    "        if l == 1:\n",
    "            k = k-1       \n",
    "            l = l+3\n",
    "        val = max(val, 3**k * self.newBreak(l))\n",
    "            \n",
    "        t = 3\n",
    "        while t<n:\n",
    "            t += 3\n",
    "            \n",
    "        return val\n",
    "        \n",
    "    def newBreak(self, n: int) -> int:\n",
    "        if n==0:\n",
    "            return 1\n",
    "        if n<=4:\n",
    "            return n\n",
    "        else:\n",
    "            return self.integerBreak(n)\n",
    "\n",
    "\n",
    "    \n",
    "sol = Solution()\n",
    "aa = sol.integerBreak(7)\n",
    "print (aa, aa == 12)\n",
    "\n",
    "sol = Solution()\n",
    "aa = sol.integerBreak(8)\n",
    "print (aa, aa == 18)\n",
    "\n",
    "sol = Solution()\n",
    "aa = sol.integerBreak(12)\n",
    "print (aa, aa == 81)"
   ]
  },
  {
   "cell_type": "code",
   "execution_count": 65,
   "id": "138a03cf",
   "metadata": {},
   "outputs": [
    {
     "data": {
      "text/plain": [
       "2"
      ]
     },
     "execution_count": 65,
     "metadata": {},
     "output_type": "execute_result"
    }
   ],
   "source": [
    "7//3"
   ]
  },
  {
   "cell_type": "code",
   "execution_count": 57,
   "id": "52b8f778",
   "metadata": {},
   "outputs": [
    {
     "data": {
      "text/plain": [
       "243"
      ]
     },
     "execution_count": 57,
     "metadata": {},
     "output_type": "execute_result"
    }
   ],
   "source": [
    "3**5"
   ]
  },
  {
   "cell_type": "code",
   "execution_count": 16,
   "id": "50f61555",
   "metadata": {},
   "outputs": [
    {
     "data": {
      "text/plain": [
       "2.6666666666666665"
      ]
     },
     "execution_count": 16,
     "metadata": {},
     "output_type": "execute_result"
    }
   ],
   "source": [
    "2*k<=t\n"
   ]
  }
 ],
 "metadata": {
  "kernelspec": {
   "display_name": "Python 3 (ipykernel)",
   "language": "python",
   "name": "python3"
  },
  "language_info": {
   "codemirror_mode": {
    "name": "ipython",
    "version": 3
   },
   "file_extension": ".py",
   "mimetype": "text/x-python",
   "name": "python",
   "nbconvert_exporter": "python",
   "pygments_lexer": "ipython3",
   "version": "3.9.7"
  }
 },
 "nbformat": 4,
 "nbformat_minor": 5
}
