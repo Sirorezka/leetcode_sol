{
 "cells": [
  {
   "cell_type": "code",
   "execution_count": 69,
   "id": "4b239f8b",
   "metadata": {
    "scrolled": true
   },
   "outputs": [
    {
     "name": "stdout",
     "output_type": "stream",
     "text": [
      "False -- is correct= True\n"
     ]
    },
    {
     "ename": "NameError",
     "evalue": "name 'deque' is not defined",
     "output_type": "error",
     "traceback": [
      "\u001b[0;31m---------------------------------------------------------------------------\u001b[0m",
      "\u001b[0;31mNameError\u001b[0m                                 Traceback (most recent call last)",
      "\u001b[0;32m/var/folders/jr/ljxh3p0j2h73tfy7r4ptm30c0000gn/T/ipykernel_13102/2058960967.py\u001b[0m in \u001b[0;36m<module>\u001b[0;34m\u001b[0m\n\u001b[1;32m     67\u001b[0m \u001b[0mrightChild\u001b[0m \u001b[0;34m=\u001b[0m \u001b[0;34m[\u001b[0m\u001b[0;34m-\u001b[0m\u001b[0;36m1\u001b[0m\u001b[0;34m,\u001b[0m\u001b[0;34m-\u001b[0m\u001b[0;36m1\u001b[0m\u001b[0;34m,\u001b[0m\u001b[0;34m-\u001b[0m\u001b[0;36m1\u001b[0m\u001b[0;34m,\u001b[0m\u001b[0;34m-\u001b[0m\u001b[0;36m1\u001b[0m\u001b[0;34m]\u001b[0m\u001b[0;34m\u001b[0m\u001b[0;34m\u001b[0m\u001b[0m\n\u001b[1;32m     68\u001b[0m \u001b[0msol\u001b[0m \u001b[0;34m=\u001b[0m \u001b[0mSolution\u001b[0m\u001b[0;34m(\u001b[0m\u001b[0;34m)\u001b[0m\u001b[0;34m\u001b[0m\u001b[0;34m\u001b[0m\u001b[0m\n\u001b[0;32m---> 69\u001b[0;31m \u001b[0maa\u001b[0m \u001b[0;34m=\u001b[0m \u001b[0msol\u001b[0m\u001b[0;34m.\u001b[0m\u001b[0mvalidateBinaryTreeNodes\u001b[0m\u001b[0;34m(\u001b[0m\u001b[0mn\u001b[0m\u001b[0;34m,\u001b[0m\u001b[0mleftChild\u001b[0m\u001b[0;34m,\u001b[0m\u001b[0mrightChild\u001b[0m\u001b[0;34m)\u001b[0m\u001b[0;34m\u001b[0m\u001b[0;34m\u001b[0m\u001b[0m\n\u001b[0m\u001b[1;32m     70\u001b[0m \u001b[0mprint\u001b[0m\u001b[0;34m(\u001b[0m\u001b[0maa\u001b[0m\u001b[0;34m,\u001b[0m \u001b[0;34m\"-- is correct=\"\u001b[0m\u001b[0;34m,\u001b[0m \u001b[0maa\u001b[0m\u001b[0;34m==\u001b[0m\u001b[0;32mFalse\u001b[0m\u001b[0;34m)\u001b[0m\u001b[0;34m\u001b[0m\u001b[0;34m\u001b[0m\u001b[0m\n\u001b[1;32m     71\u001b[0m \u001b[0;34m\u001b[0m\u001b[0m\n",
      "\u001b[0;32m/var/folders/jr/ljxh3p0j2h73tfy7r4ptm30c0000gn/T/ipykernel_13102/2058960967.py\u001b[0m in \u001b[0;36mvalidateBinaryTreeNodes\u001b[0;34m(self, n, leftChild, rightChild)\u001b[0m\n\u001b[1;32m     30\u001b[0m \u001b[0;34m\u001b[0m\u001b[0m\n\u001b[1;32m     31\u001b[0m         \u001b[0;31m# check that we can visit every node from the head\u001b[0m\u001b[0;34m\u001b[0m\u001b[0;34m\u001b[0m\u001b[0m\n\u001b[0;32m---> 32\u001b[0;31m         \u001b[0mqueue\u001b[0m \u001b[0;34m=\u001b[0m \u001b[0mdeque\u001b[0m\u001b[0;34m(\u001b[0m\u001b[0;34m[\u001b[0m\u001b[0mhead_idx\u001b[0m\u001b[0;34m]\u001b[0m\u001b[0;34m)\u001b[0m\u001b[0;34m\u001b[0m\u001b[0;34m\u001b[0m\u001b[0m\n\u001b[0m\u001b[1;32m     33\u001b[0m         \u001b[0mvis\u001b[0m \u001b[0;34m=\u001b[0m \u001b[0mhead\u001b[0m \u001b[0;31m# we can reuse same array\u001b[0m\u001b[0;34m\u001b[0m\u001b[0;34m\u001b[0m\u001b[0m\n\u001b[1;32m     34\u001b[0m         \u001b[0mvis\u001b[0m\u001b[0;34m[\u001b[0m\u001b[0mhead_idx\u001b[0m\u001b[0;34m]\u001b[0m \u001b[0;34m=\u001b[0m \u001b[0;32mFalse\u001b[0m\u001b[0;34m\u001b[0m\u001b[0;34m\u001b[0m\u001b[0m\n",
      "\u001b[0;31mNameError\u001b[0m: name 'deque' is not defined"
     ]
    }
   ],
   "source": [
    "# 1361. Validate Binary Tree Nodes\n",
    "from typing import List\n",
    "\n",
    "class Solution:\n",
    "    def validateBinaryTreeNodes(self, \n",
    "            n: int, \n",
    "            leftChild: List[int], \n",
    "            rightChild: List[int]) -> bool:\n",
    "\n",
    "        ## (n+1) will allow to correctly handle -1 in the data\n",
    "        head = [True] * (n+1)\n",
    "        for i in leftChild:\n",
    "            head[i] = False\n",
    "\n",
    "        for i in rightChild:\n",
    "            head[i] = False\n",
    "\n",
    "        ## check if we have heads in the data\n",
    "        ## we should have only one head\n",
    "        head_idx = None\n",
    "        for i in range(n):\n",
    "            if not head[i]:\n",
    "                continue\n",
    "            if head_idx:\n",
    "                return False\n",
    "            head_idx = i\n",
    "              \n",
    "        if head_idx is None:\n",
    "            return False\n",
    "\n",
    "        # check that we can visit every node from the head\n",
    "        queue = deque([head_idx])\n",
    "        vis = head # we can reuse same array\n",
    "        vis[head_idx] = False       \n",
    "        n_vis = 0\n",
    "        while queue:\n",
    "            i = queue.popleft()\n",
    "            \n",
    "            if vis[i]:\n",
    "                return False\n",
    "\n",
    "            n_vis+=1\n",
    "            vis[i] = True\n",
    "            if leftChild[i]!=-1:\n",
    "                queue.append(leftChild[i])\n",
    "                \n",
    "            if rightChild[i]!=-1:\n",
    "                queue.append(rightChild[i])\n",
    "                \n",
    "        if n_vis!=n:\n",
    "            return False\n",
    "\n",
    "        return True\n",
    "\n",
    "\n",
    "n = 2\n",
    "leftChild = [1,0]\n",
    "rightChild = [-1,-1]\n",
    "\n",
    "sol = Solution()\n",
    "aa = sol.validateBinaryTreeNodes(n,leftChild,rightChild)\n",
    "print(aa, \"-- is correct=\", aa==False)\n",
    "\n",
    "\n",
    "n = 4\n",
    "leftChild = [1,0,3,-1]\n",
    "rightChild = [-1,-1,-1,-1]\n",
    "sol = Solution()\n",
    "aa = sol.validateBinaryTreeNodes(n,leftChild,rightChild)\n",
    "print(aa, \"-- is correct=\", aa==False)\n",
    "\n",
    "n = 4\n",
    "leftChild = [1,-1,3,-1]\n",
    "rightChild = [2,-1,-1,-1]\n",
    "sol = Solution()\n",
    "aa = sol.validateBinaryTreeNodes(n,leftChild,rightChild)\n",
    "print(aa, \"-- is correct=\", aa==True)\n",
    "\n",
    "n = 4\n",
    "leftChild = [1,-1,3,-1]\n",
    "rightChild = [2,3,-1,-1]\n",
    "sol = Solution()\n",
    "aa = sol.validateBinaryTreeNodes(n,leftChild,rightChild)\n",
    "print(aa, \"-- is correct=\", aa==False)"
   ]
  },
  {
   "cell_type": "code",
   "execution_count": 63,
   "id": "d59c74c4",
   "metadata": {},
   "outputs": [
    {
     "data": {
      "text/plain": [
       "[True, True, False, True, True]"
      ]
     },
     "execution_count": 63,
     "metadata": {},
     "output_type": "execute_result"
    }
   ],
   "source": [
    "n = 5\n",
    "head = [True] * n \n",
    "vis = head\n",
    "vis[2] = False\n",
    "head"
   ]
  }
 ],
 "metadata": {
  "kernelspec": {
   "display_name": "Python 3 (ipykernel)",
   "language": "python",
   "name": "python3"
  },
  "language_info": {
   "codemirror_mode": {
    "name": "ipython",
    "version": 3
   },
   "file_extension": ".py",
   "mimetype": "text/x-python",
   "name": "python",
   "nbconvert_exporter": "python",
   "pygments_lexer": "ipython3",
   "version": "3.9.7"
  }
 },
 "nbformat": 4,
 "nbformat_minor": 5
}
