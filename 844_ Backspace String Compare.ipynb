{
 "cells": [
  {
   "cell_type": "code",
   "execution_count": null,
   "id": "4b239f8b",
   "metadata": {},
   "outputs": [],
   "source": [
    "# 844. Backspace String Compare\n",
    "\n",
    "class Solution:\n",
    "    def backspaceCompare(self, s: str, t: str) -> bool:\n",
    "        p1, p2 = len(s), len(t)\n",
    "        while True:            \n",
    "            p1 = self.upd_pointer(s,p1)\n",
    "            p2 = self.upd_pointer(t,p2)\n",
    "\n",
    "            if p2<0 and p1<0:\n",
    "                return True\n",
    "            if p2<0 or p1<0 or s[p1]!=t[p2]:\n",
    "                return False\n",
    "\n",
    "    def upd_pointer(self,s,p1):\n",
    "        bsh = {\"#\"}\n",
    "        p1-=1\n",
    "        skip = 0\n",
    "        while p1>=0 and (s[p1] in bsh or skip>0):\n",
    "            if s[p1] in bsh:\n",
    "                skip+=1\n",
    "                p1-=1\n",
    "            else:\n",
    "                p1-=1\n",
    "                skip -=1\n",
    "        return p1\n",
    "    \n",
    "\n",
    "s = \"ab##\"\n",
    "t = \"c#d#\"    \n",
    "sol = Solution()\n",
    "sol.backspaceCompare(s,t)"
   ]
  },
  {
   "cell_type": "code",
   "execution_count": null,
   "id": "4b7113b3",
   "metadata": {},
   "outputs": [],
   "source": []
  }
 ],
 "metadata": {
  "kernelspec": {
   "display_name": "Python 3 (ipykernel)",
   "language": "python",
   "name": "python3"
  },
  "language_info": {
   "codemirror_mode": {
    "name": "ipython",
    "version": 3
   },
   "file_extension": ".py",
   "mimetype": "text/x-python",
   "name": "python",
   "nbconvert_exporter": "python",
   "pygments_lexer": "ipython3",
   "version": "3.9.7"
  }
 },
 "nbformat": 4,
 "nbformat_minor": 5
}
