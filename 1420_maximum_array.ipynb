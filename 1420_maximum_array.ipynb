{
 "cells": [
  {
   "cell_type": "code",
   "execution_count": 235,
   "id": "605f6067",
   "metadata": {
    "scrolled": true
   },
   "outputs": [
    {
     "name": "stdout",
     "output_type": "stream",
     "text": [
      "105105 True\n",
      "210210 True\n"
     ]
    }
   ],
   "source": [
    "# 1420. Build Array Where You Can Find The Maximum Exactly K Comparisons\n",
    "\n",
    "from math import factorial\n",
    "\n",
    "class Solution:\n",
    "    def numOfArrays(self, n: int, m: int, k: int) -> int:\n",
    "        \n",
    "        if m<k or n<k:\n",
    "            return 0\n",
    "        \n",
    "        # special case\n",
    "        if k==1:\n",
    "            tot_sum = 0\n",
    "            for p in range(1, m+1):\n",
    "                tot_sum += p**(n-1) % (10**9 + 7)\n",
    "            return tot_sum \n",
    "        \n",
    "        if k==n:\n",
    "            return self.getC(m,k) % (10**9 + 7)\n",
    "        \n",
    "        if k==m:\n",
    "            tot = 1 + (n-k) * (1+k) / 2 * k \n",
    "            return int(tot) % (10**9 + 7)\n",
    "                \n",
    "          \n",
    "        norm = (10**9 + 7)\n",
    "        \n",
    "        tot = 0\n",
    "        for i in range(m):\n",
    "            tot = (tot + i**(n-k)) % norm\n",
    "            \n",
    "        aa = self.getC(m-1, k-1) % norm\n",
    "        tot = (tot * aa) % norm\n",
    "\n",
    "        \n",
    "        return tot\n",
    "    \n",
    "    def getC(self, n,r):\n",
    "\n",
    "        if r ==0:\n",
    "            return 1\n",
    "\n",
    "        if r > n//2:\n",
    "            r = n-r\n",
    "\n",
    "        tot = 1\n",
    "        div = 1\n",
    "        for i in range(1,r+1):\n",
    "            tot *= (n-(i-1))\n",
    "            div *= i\n",
    "            \n",
    "        return tot // div ## always integer\n",
    "\n",
    "        \n",
    "# sol = Solution()\n",
    "# aa = sol.numOfArrays(2, 3, 1)\n",
    "# print (aa, aa == 6)\n",
    "\n",
    "# sol = Solution()\n",
    "# aa = sol.numOfArrays(9,1,1)\n",
    "# print (aa, aa == 1)\n",
    "\n",
    "# sol = Solution()\n",
    "# aa = sol.numOfArrays(3,10,1)\n",
    "# print (aa, aa == 385)\n",
    "\n",
    "# sol = Solution()\n",
    "# aa = sol.numOfArrays(4,10,1)\n",
    "# print (aa, aa == 3025)\n",
    "\n",
    "# sol = Solution()\n",
    "# aa = sol.numOfArrays(2, 2, 2)\n",
    "# print (aa, aa == 1)\n",
    "\n",
    "# sol = Solution()\n",
    "# aa = sol.numOfArrays(2, 3, 2)\n",
    "# print (aa, aa == 3)\n",
    "\n",
    "# sol = Solution()\n",
    "# aa = sol.numOfArrays(2, 100, 2)\n",
    "# print (aa, aa == 4950)\n",
    "\n",
    "# sol = Solution()\n",
    "# aa = sol.numOfArrays(3, 100, 3)\n",
    "# print (aa, aa == 161700)\n",
    "\n",
    "# sol = Solution()\n",
    "# aa = sol.numOfArrays(50, 25, 25)\n",
    "# print (aa, aa == 8126)\n",
    "\n",
    "# sol = Solution()\n",
    "# aa = sol.numOfArrays(50, 100, 25)\n",
    "# print (aa, aa == 34549172)\n",
    "\n",
    "sol = Solution()\n",
    "aa = sol.numOfArrays(6, 15, 5)\n",
    "print (aa, aa == 105105)\n",
    "\n",
    "\n",
    "sol = Solution()\n",
    "aa = sol.numOfArrays(7, 15, 6)\n",
    "print (aa, aa == 210210)"
   ]
  },
  {
   "cell_type": "code",
   "execution_count": 236,
   "id": "e58f930e",
   "metadata": {},
   "outputs": [
    {
     "name": "stdout",
     "output_type": "stream",
     "text": [
      "210210\n"
     ]
    }
   ],
   "source": [
    "n = 7\n",
    "m = 15\n",
    "k = 6\n",
    "\n",
    "tot = 0\n",
    "\n",
    "for p1 in range(m):\n",
    " for p2 in range(p1+1, m):\n",
    "  for p3 in range(p2+1, m):\n",
    "   for p4 in range(p3+1, m):        \n",
    "    for p5 in range(p4+1, m):\n",
    "      for p6 in range(p5+1, m):        \n",
    "        tot += p1+p2+p3+p4+p5+p6\n",
    "\n",
    "print(tot)"
   ]
  },
  {
   "cell_type": "code",
   "execution_count": 168,
   "id": "11eb2ab8",
   "metadata": {},
   "outputs": [
    {
     "name": "stdout",
     "output_type": "stream",
     "text": [
      "25 1\n",
      "25 2\n",
      "25 3\n",
      "25 4\n",
      "25 5\n",
      "25 6\n",
      "25 7\n",
      "25 8\n",
      "25 9\n",
      "25 10\n",
      "25 11\n",
      "25 12\n",
      "25 13\n",
      "25 14\n",
      "25 15\n",
      "25 16\n",
      "25 17\n",
      "25 18\n",
      "25 19\n",
      "25 20\n",
      "25 21\n",
      "25 22\n",
      "25 23\n",
      "25 24\n",
      "25 25\n",
      "8126\n",
      "8126.0\n"
     ]
    }
   ],
   "source": [
    "n = 50\n",
    "m = 25\n",
    "k = 25\n",
    "\n",
    "tot = 1\n",
    "for r in range(1, m+1):\n",
    "    print ((n-k), r)\n",
    "    tot = tot + r * (n-k)\n",
    "    \n",
    "print (tot)    \n",
    "tot = 1 + (n-k) * (1+k) / 2 * k \n",
    "print (tot)"
   ]
  },
  {
   "cell_type": "code",
   "execution_count": 153,
   "id": "dc75532b",
   "metadata": {},
   "outputs": [
    {
     "name": "stdout",
     "output_type": "stream",
     "text": [
      "1 99\n",
      "2 98\n",
      "3 97\n",
      "4 96\n",
      "5 95\n",
      "6 94\n",
      "7 93\n",
      "8 92\n",
      "9 91\n",
      "10 90\n",
      "11 89\n",
      "12 88\n",
      "13 87\n",
      "14 86\n",
      "15 85\n",
      "16 84\n",
      "17 83\n",
      "18 82\n",
      "19 81\n",
      "20 80\n",
      "21 79\n",
      "22 78\n",
      "23 77\n",
      "24 76\n",
      "25 75\n",
      "26 74\n",
      "27 73\n",
      "28 72\n",
      "29 71\n",
      "30 70\n",
      "31 69\n",
      "32 68\n",
      "33 67\n",
      "34 66\n",
      "35 65\n",
      "36 64\n",
      "37 63\n",
      "38 62\n",
      "39 61\n",
      "40 60\n",
      "41 59\n",
      "42 58\n",
      "43 57\n",
      "44 56\n",
      "45 55\n",
      "46 54\n",
      "47 53\n",
      "48 52\n",
      "49 51\n",
      "50 50\n",
      "51 49\n",
      "52 48\n",
      "53 47\n",
      "54 46\n",
      "55 45\n",
      "56 44\n",
      "57 43\n",
      "58 42\n",
      "59 41\n",
      "60 40\n",
      "61 39\n",
      "62 38\n",
      "63 37\n",
      "64 36\n",
      "65 35\n",
      "66 34\n",
      "67 33\n",
      "68 32\n",
      "69 31\n",
      "70 30\n",
      "71 29\n",
      "72 28\n",
      "73 27\n",
      "74 26\n",
      "75 25\n",
      "76 24\n"
     ]
    }
   ],
   "source": [
    "n = 100\n",
    "k = 25\n",
    "for r in range(1, n-(k-2)):\n",
    "    print (r, n-r)\n",
    "    "
   ]
  },
  {
   "cell_type": "code",
   "execution_count": null,
   "id": "b070fcca",
   "metadata": {},
   "outputs": [],
   "source": [
    "n=26\n",
    "m=100\n",
    "k=25\n",
    "\n"
   ]
  },
  {
   "cell_type": "code",
   "execution_count": null,
   "id": "e4143da5",
   "metadata": {},
   "outputs": [],
   "source": [
    "n=50\n",
    "m=100\n",
    "k=25\n",
    "\n",
    "1 * n-1, m, k\n",
    "1 * n-1, m, k\n",
    "\n"
   ]
  },
  {
   "cell_type": "code",
   "execution_count": 131,
   "id": "7113ea69",
   "metadata": {},
   "outputs": [
    {
     "name": "stdout",
     "output_type": "stream",
     "text": [
      "385\n"
     ]
    }
   ],
   "source": [
    "n=3\n",
    "m = 10\n",
    "k = 1\n",
    "tot = 0\n",
    "for r1 in range(1,m+1):\n",
    "    tot+=r1*r1\n",
    "        \n",
    "print(tot)"
   ]
  },
  {
   "cell_type": "code",
   "execution_count": null,
   "id": "4c734446",
   "metadata": {},
   "outputs": [],
   "source": [
    "# look at case:\n",
    "# a. n=5, m=1, k=1\n",
    "# b. n=5, m=2, k=1\n",
    "# c. n=5, m=3, k=1\n",
    "# \n",
    "# d. generalise case for k=1\n",
    "\n",
    "\n",
    "# look at case:\n",
    "# a. n=2, m=100, k=2\n",
    "# b. n=3, m=100, k=3\n",
    "# c. general case for k=n\n"
   ]
  },
  {
   "cell_type": "code",
   "execution_count": null,
   "id": "8783f2ab",
   "metadata": {},
   "outputs": [],
   "source": [
    "n = 3\n",
    "m = 100\n",
    "k = 2\n",
    "\n"
   ]
  },
  {
   "cell_type": "code",
   "execution_count": 94,
   "id": "c4f5057c",
   "metadata": {},
   "outputs": [
    {
     "name": "stdout",
     "output_type": "stream",
     "text": [
      "4950.0\n",
      "4950\n",
      "161700\n"
     ]
    }
   ],
   "source": [
    "n = 3\n",
    "m = 100\n",
    "k = 3\n",
    "\n",
    "print (100 * 99  / 2)\n",
    "\n",
    "tot = 0\n",
    "for r in range(1, m):\n",
    "    tot += max(0,m-r)\n",
    "    \n",
    "print (tot)\n",
    "       \n",
    "tot = 0\n",
    "for r1 in range(1, m):\n",
    "    for r2 in range(1,m-r1):\n",
    "        tot += max(0,m-r1-r2)\n",
    "#         print (r1,r2, m-r1-r2)\n",
    "\n",
    "print (tot)"
   ]
  },
  {
   "cell_type": "code",
   "execution_count": 101,
   "id": "14c62180",
   "metadata": {},
   "outputs": [
    {
     "name": "stdout",
     "output_type": "stream",
     "text": [
      "100 3 161700.0\n"
     ]
    },
    {
     "data": {
      "text/plain": [
       "161700.0"
      ]
     },
     "execution_count": 101,
     "metadata": {},
     "output_type": "execute_result"
    }
   ],
   "source": [
    "def getC(n,r):\n",
    "\n",
    "    if r ==0:\n",
    "        return 1\n",
    "\n",
    "    if r > n//2:\n",
    "        r = n-r\n",
    "\n",
    "    tot = 1\n",
    "    div = 1\n",
    "    for i in range(1,r+1):\n",
    "        tot *= (n-(i-1))\n",
    "        div *= i\n",
    "    \n",
    "    tot = tot / div\n",
    "    print (n, r, tot)\n",
    "\n",
    "    return tot\n",
    "\n",
    "getC(100,3)"
   ]
  },
  {
   "cell_type": "code",
   "execution_count": 95,
   "id": "e92a11bd",
   "metadata": {},
   "outputs": [
    {
     "name": "stdout",
     "output_type": "stream",
     "text": [
      "161700.0\n"
     ]
    }
   ],
   "source": [
    "print (100 * 99 * 98  / (2*3))"
   ]
  },
  {
   "cell_type": "code",
   "execution_count": 57,
   "id": "52b8f778",
   "metadata": {},
   "outputs": [
    {
     "data": {
      "text/plain": [
       "243"
      ]
     },
     "execution_count": 57,
     "metadata": {},
     "output_type": "execute_result"
    }
   ],
   "source": [
    "3**5"
   ]
  },
  {
   "cell_type": "code",
   "execution_count": 16,
   "id": "50f61555",
   "metadata": {},
   "outputs": [
    {
     "data": {
      "text/plain": [
       "2.6666666666666665"
      ]
     },
     "execution_count": 16,
     "metadata": {},
     "output_type": "execute_result"
    }
   ],
   "source": [
    "2*k<=t\n"
   ]
  }
 ],
 "metadata": {
  "kernelspec": {
   "display_name": "Python 3 (ipykernel)",
   "language": "python",
   "name": "python3"
  },
  "language_info": {
   "codemirror_mode": {
    "name": "ipython",
    "version": 3
   },
   "file_extension": ".py",
   "mimetype": "text/x-python",
   "name": "python",
   "nbconvert_exporter": "python",
   "pygments_lexer": "ipython3",
   "version": "3.9.7"
  }
 },
 "nbformat": 4,
 "nbformat_minor": 5
}
